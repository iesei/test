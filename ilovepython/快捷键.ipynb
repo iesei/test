{
 "cells": [
  {
   "cell_type": "markdown",
   "metadata": {},
   "source": [
    "# 快捷键"
   ]
  },
  {
   "cell_type": "markdown",
   "metadata": {},
   "source": [
    "## esc + M 是标题"
   ]
  },
  {
   "cell_type": "markdown",
   "metadata": {},
   "source": [
    "## DD是删除"
   ]
  },
  {
   "cell_type": "markdown",
   "metadata": {},
   "source": [
    "### ###决定了标题的大小"
   ]
  },
  {
   "cell_type": "markdown",
   "metadata": {},
   "source": [
    "tab：代码补全或缩紧"
   ]
  },
  {
   "cell_type": "markdown",
   "metadata": {},
   "source": [
    "# 编辑模式 ( Enter 键启动)\n",
    "\n",
    "Tab : 代码补全或缩进\n",
    "\n",
    "Shift-Tab : 提示\n",
    "\n",
    "Ctrl-] : 缩进\n",
    "\n",
    "Ctrl-[ : 解除缩进\n",
    "\n",
    "Ctrl-A : 全选\n",
    "\n",
    "Ctrl-Z : 复原\n",
    "\n",
    "Ctrl-Shift-Z : 再做\n",
    "\n",
    "Ctrl-Y : 再做\n",
    "\n",
    "Ctrl-Home : 跳到单元开头\n",
    "\n",
    "Ctrl-Up : 跳到单元开头\n",
    "\n",
    "Ctrl-End : 跳到单元末尾\n",
    "\n",
    "Ctrl-Down : 跳到单元末尾\n",
    "\n",
    "Ctrl-Left : 跳到左边一个字首\n",
    "\n",
    "Ctrl-Right : 跳到右边一个字首\n",
    "\n",
    "Ctrl-Backspace : 删除前面一个字\n",
    "\n",
    "Ctrl-Delete : 删除后面一个字\n",
    "\n",
    "Esc : 进入命令模式\n",
    "\n",
    "Ctrl-M : 进入命令模式\n",
    "\n",
    "Shift-Enter : 运行本单元，选中下一单元\n",
    "\n",
    "Ctrl-Enter : 运行本单元\n",
    "\n",
    "Alt-Enter : 运行本单元，在下面插入一单元\n",
    "\n",
    "Ctrl-Shift-- : 分割单元\n",
    "\n",
    "Ctrl-Shift-Subtract : 分割单元\n",
    "\n",
    "Ctrl-S : 文件存盘\n",
    "\n",
    "Shift : 忽略\n",
    "\n",
    "Up : 光标上移或转入上一单元\n",
    "\n",
    "Down :光标下移或转入下一单元\n"
   ]
  },
  {
   "cell_type": "markdown",
   "metadata": {},
   "source": [
    "# 命令模式 (按键 Esc 开启)\n",
    "\n",
    "Enter : 转入编辑模式\n",
    "\n",
    "Shift-Enter : 运行本单元，选中下个单元\n",
    "\n",
    "Ctrl-Enter : 运行本单元\n",
    "\n",
    "Alt-Enter : 运行本单元，在其下插入新单元\n",
    "\n",
    "Y : 单元转入代码状态\n",
    "\n",
    "M :单元转入markdown状态\n",
    "\n",
    "R : 单元转入raw状态\n",
    "\n",
    "1 : 设定 1 级标题\n",
    "\n",
    "2 : 设定 2 级标题\n",
    "\n",
    "3 : 设定 3 级标题\n",
    "\n",
    "4 : 设定 4 级标题\n",
    "\n",
    "5 : 设定 5 级标题\n",
    "\n",
    "6 : 设定 6 级标题\n",
    "\n",
    "Up : 选中上方单元\n",
    "\n",
    "K : 选中上方单元\n",
    "\n",
    "Down : 选中下方单元\n",
    "\n",
    "J : 选中下方单元\n",
    "\n",
    "Shift-K : 扩大选中上方单元\n",
    "\n",
    "Shift-J : 扩大选中下方单元\n",
    "\n",
    "A : 在上方插入新单元\n",
    "\n",
    "B : 在下方插入新单元\n",
    "\n",
    "X : 剪切选中的单元\n",
    "\n",
    "C : 复制选中的单元\n",
    "\n",
    "Shift-V : 粘贴到上方单元\n",
    "\n",
    "V : 粘贴到下方单元\n",
    "\n",
    "Z : 恢复删除的最后一个单元\n",
    "\n",
    "D,D : 删除选中的单元\n",
    "\n",
    "Shift-M : 合并选中的单元\n",
    "\n",
    "Ctrl-S : 文件存盘\n",
    "\n",
    "S : 文件存盘\n",
    "\n",
    "L : 转换行号\n",
    "\n",
    "O : 转换输出\n",
    "\n",
    "Shift-O : 转换输出滚动\n",
    "\n",
    "Esc : 关闭页面\n",
    "\n",
    "Q : 关闭页面\n",
    "\n",
    "H : 显示快捷键帮助\n",
    "\n",
    "I,I : 中断Notebook内核\n",
    "\n",
    "0,0 : 重启Notebook内核\n",
    "\n",
    "Shift : 忽略\n",
    "\n",
    "Shift-Space : 向上滚动\n",
    "\n",
    "Space : 向下滚动\n"
   ]
  },
  {
   "cell_type": "code",
   "execution_count": null,
   "metadata": {},
   "outputs": [],
   "source": []
  },
  {
   "cell_type": "code",
   "execution_count": null,
   "metadata": {},
   "outputs": [],
   "source": []
  },
  {
   "cell_type": "code",
   "execution_count": null,
   "metadata": {},
   "outputs": [],
   "source": []
  },
  {
   "cell_type": "code",
   "execution_count": null,
   "metadata": {},
   "outputs": [],
   "source": []
  },
  {
   "cell_type": "code",
   "execution_count": null,
   "metadata": {},
   "outputs": [],
   "source": []
  },
  {
   "cell_type": "code",
   "execution_count": null,
   "metadata": {},
   "outputs": [],
   "source": []
  },
  {
   "cell_type": "code",
   "execution_count": null,
   "metadata": {},
   "outputs": [],
   "source": []
  },
  {
   "cell_type": "code",
   "execution_count": null,
   "metadata": {},
   "outputs": [],
   "source": []
  },
  {
   "cell_type": "code",
   "execution_count": null,
   "metadata": {},
   "outputs": [],
   "source": []
  },
  {
   "cell_type": "code",
   "execution_count": null,
   "metadata": {},
   "outputs": [],
   "source": []
  },
  {
   "cell_type": "markdown",
   "metadata": {},
   "source": [
    "## 哈哈哈"
   ]
  },
  {
   "cell_type": "code",
   "execution_count": null,
   "metadata": {},
   "outputs": [],
   "source": []
  }
 ],
 "metadata": {
  "kernelspec": {
   "display_name": "Python [conda env:anaconda3]",
   "language": "python",
   "name": "conda-env-anaconda3-py"
  },
  "language_info": {
   "codemirror_mode": {
    "name": "ipython",
    "version": 3
   },
   "file_extension": ".py",
   "mimetype": "text/x-python",
   "name": "python",
   "nbconvert_exporter": "python",
   "pygments_lexer": "ipython3",
   "version": "3.6.4"
  }
 },
 "nbformat": 4,
 "nbformat_minor": 2
}
